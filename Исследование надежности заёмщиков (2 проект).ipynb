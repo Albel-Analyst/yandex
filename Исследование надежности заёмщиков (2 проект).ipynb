{
 "cells": [
  {
   "cell_type": "markdown",
   "metadata": {},
   "source": [
    "# Огавление\n",
    "1. [Описание проекта](#description)\n",
    "2. [Открытие данных](#1)\n",
    "3. [Предобработка данных](#2)\n",
    "    * [Обработка пропусков](#3)\n",
    "    * [Замена типа данных](#4)\n",
    "    * [Обработка дубликатов](#5)  \n",
    "    * [Лемматизация](#6)\n",
    "    * [Категоризация данных](#7)\n",
    "    \n",
    "    \n",
    "4. [Ответы на вопросы](#8) \n",
    "5. [Общий вывод](#9) "
   ]
  },
  {
   "cell_type": "markdown",
   "metadata": {},
   "source": [
    "## Описание проекта  <a id=\"description\"></a>\n",
    "### Исследование надёжности заёмщиков \n",
    "\n",
    "Заказчик — кредитный отдел банка. Нужно разобраться, влияет ли семейное положение и количество детей клиента на факт погашения кредита в срок. Входные данные от банка — статистика о платёжеспособности клиентов.\n",
    "\n",
    "Результаты исследования будут учтены при построении модели **кредитного скоринга** — специальной системы, которая оценивает способность потенциального заёмщика вернуть кредит банку."
   ]
  },
  {
   "cell_type": "markdown",
   "metadata": {},
   "source": [
    "### Шаг 1. Откройте файл с данными и изучите общую информацию.   <a id=\"1\"></a>"
   ]
  },
  {
   "cell_type": "code",
   "execution_count": 22,
   "metadata": {},
   "outputs": [],
   "source": [
    "import pandas as pd\n",
    "\n",
    "data = pd.read_csv('/datasets/data.csv')\n",
    "\n",
    "data.to_csv('dlya_analiza.csv')"
   ]
  },
  {
   "cell_type": "code",
   "execution_count": 23,
   "metadata": {},
   "outputs": [
    {
     "name": "stdout",
     "output_type": "stream",
     "text": [
      "<class 'pandas.core.frame.DataFrame'>\n",
      "RangeIndex: 21525 entries, 0 to 21524\n",
      "Data columns (total 12 columns):\n",
      "children            21525 non-null int64\n",
      "days_employed       19351 non-null float64\n",
      "dob_years           21525 non-null int64\n",
      "education           21525 non-null object\n",
      "education_id        21525 non-null int64\n",
      "family_status       21525 non-null object\n",
      "family_status_id    21525 non-null int64\n",
      "gender              21525 non-null object\n",
      "income_type         21525 non-null object\n",
      "debt                21525 non-null int64\n",
      "total_income        19351 non-null float64\n",
      "purpose             21525 non-null object\n",
      "dtypes: float64(2), int64(5), object(5)\n",
      "memory usage: 2.0+ MB\n"
     ]
    }
   ],
   "source": [
    "data.info()"
   ]
  },
  {
   "cell_type": "markdown",
   "metadata": {},
   "source": [
    "### Вывод"
   ]
  },
  {
   "cell_type": "markdown",
   "metadata": {},
   "source": [
    "- Всего в таблице 12 столбцов.\n",
    "- Количество значений в столбцах различается. \n",
    "- Часть данных отсутствует в столбцах total_income и days_employed, займемся их предобработкой далее"
   ]
  },
  {
   "cell_type": "markdown",
   "metadata": {},
   "source": [
    "### Шаг 2. Предобработка данных <a id=\"2\"></a>"
   ]
  },
  {
   "cell_type": "code",
   "execution_count": 24,
   "metadata": {},
   "outputs": [
    {
     "data": {
      "text/plain": [
       "-986.927316     1\n",
       "-7026.359174    1\n",
       "-4236.274243    1\n",
       "-6620.396473    1\n",
       "-1238.560080    1\n",
       "               ..\n",
       "-2849.351119    1\n",
       "-5619.328204    1\n",
       "-448.829898     1\n",
       "-1687.038672    1\n",
       "-582.538413     1\n",
       "Name: days_employed, Length: 19351, dtype: int64"
      ]
     },
     "execution_count": 24,
     "metadata": {},
     "output_type": "execute_result"
    }
   ],
   "source": [
    "data['days_employed'].value_counts()"
   ]
  },
  {
   "cell_type": "code",
   "execution_count": 25,
   "metadata": {},
   "outputs": [],
   "source": [
    "# Так как при просмотре таблицы в столбце days_employed были обнаружены отрицательные значения, что могло быть\n",
    "# вызванно технической ошибкой, возьмем эти же значения по модулю\n",
    "\n",
    "data['days_employed'] = abs(data['days_employed'])"
   ]
  },
  {
   "cell_type": "code",
   "execution_count": 26,
   "metadata": {},
   "outputs": [
    {
     "data": {
      "text/html": [
       "<div>\n",
       "<style scoped>\n",
       "    .dataframe tbody tr th:only-of-type {\n",
       "        vertical-align: middle;\n",
       "    }\n",
       "\n",
       "    .dataframe tbody tr th {\n",
       "        vertical-align: top;\n",
       "    }\n",
       "\n",
       "    .dataframe thead th {\n",
       "        text-align: right;\n",
       "    }\n",
       "</style>\n",
       "<table border=\"1\" class=\"dataframe\">\n",
       "  <thead>\n",
       "    <tr style=\"text-align: right;\">\n",
       "      <th></th>\n",
       "      <th>children</th>\n",
       "      <th>days_employed</th>\n",
       "      <th>dob_years</th>\n",
       "      <th>education</th>\n",
       "      <th>education_id</th>\n",
       "      <th>family_status</th>\n",
       "      <th>family_status_id</th>\n",
       "      <th>gender</th>\n",
       "      <th>income_type</th>\n",
       "      <th>debt</th>\n",
       "      <th>total_income</th>\n",
       "      <th>purpose</th>\n",
       "    </tr>\n",
       "  </thead>\n",
       "  <tbody>\n",
       "    <tr>\n",
       "      <td>0</td>\n",
       "      <td>1</td>\n",
       "      <td>8437.673028</td>\n",
       "      <td>42</td>\n",
       "      <td>высшее</td>\n",
       "      <td>0</td>\n",
       "      <td>женат / замужем</td>\n",
       "      <td>0</td>\n",
       "      <td>F</td>\n",
       "      <td>сотрудник</td>\n",
       "      <td>0</td>\n",
       "      <td>253875.639453</td>\n",
       "      <td>покупка жилья</td>\n",
       "    </tr>\n",
       "    <tr>\n",
       "      <td>1</td>\n",
       "      <td>1</td>\n",
       "      <td>4024.803754</td>\n",
       "      <td>36</td>\n",
       "      <td>среднее</td>\n",
       "      <td>1</td>\n",
       "      <td>женат / замужем</td>\n",
       "      <td>0</td>\n",
       "      <td>F</td>\n",
       "      <td>сотрудник</td>\n",
       "      <td>0</td>\n",
       "      <td>112080.014102</td>\n",
       "      <td>приобретение автомобиля</td>\n",
       "    </tr>\n",
       "    <tr>\n",
       "      <td>2</td>\n",
       "      <td>0</td>\n",
       "      <td>5623.422610</td>\n",
       "      <td>33</td>\n",
       "      <td>Среднее</td>\n",
       "      <td>1</td>\n",
       "      <td>женат / замужем</td>\n",
       "      <td>0</td>\n",
       "      <td>M</td>\n",
       "      <td>сотрудник</td>\n",
       "      <td>0</td>\n",
       "      <td>145885.952297</td>\n",
       "      <td>покупка жилья</td>\n",
       "    </tr>\n",
       "    <tr>\n",
       "      <td>3</td>\n",
       "      <td>3</td>\n",
       "      <td>4124.747207</td>\n",
       "      <td>32</td>\n",
       "      <td>среднее</td>\n",
       "      <td>1</td>\n",
       "      <td>женат / замужем</td>\n",
       "      <td>0</td>\n",
       "      <td>M</td>\n",
       "      <td>сотрудник</td>\n",
       "      <td>0</td>\n",
       "      <td>267628.550329</td>\n",
       "      <td>дополнительное образование</td>\n",
       "    </tr>\n",
       "    <tr>\n",
       "      <td>4</td>\n",
       "      <td>0</td>\n",
       "      <td>340266.072047</td>\n",
       "      <td>53</td>\n",
       "      <td>среднее</td>\n",
       "      <td>1</td>\n",
       "      <td>гражданский брак</td>\n",
       "      <td>1</td>\n",
       "      <td>F</td>\n",
       "      <td>пенсионер</td>\n",
       "      <td>0</td>\n",
       "      <td>158616.077870</td>\n",
       "      <td>сыграть свадьбу</td>\n",
       "    </tr>\n",
       "  </tbody>\n",
       "</table>\n",
       "</div>"
      ],
      "text/plain": [
       "   children  days_employed  dob_years education  education_id  \\\n",
       "0         1    8437.673028         42    высшее             0   \n",
       "1         1    4024.803754         36   среднее             1   \n",
       "2         0    5623.422610         33   Среднее             1   \n",
       "3         3    4124.747207         32   среднее             1   \n",
       "4         0  340266.072047         53   среднее             1   \n",
       "\n",
       "      family_status  family_status_id gender income_type  debt   total_income  \\\n",
       "0   женат / замужем                 0      F   сотрудник     0  253875.639453   \n",
       "1   женат / замужем                 0      F   сотрудник     0  112080.014102   \n",
       "2   женат / замужем                 0      M   сотрудник     0  145885.952297   \n",
       "3   женат / замужем                 0      M   сотрудник     0  267628.550329   \n",
       "4  гражданский брак                 1      F   пенсионер     0  158616.077870   \n",
       "\n",
       "                      purpose  \n",
       "0               покупка жилья  \n",
       "1     приобретение автомобиля  \n",
       "2               покупка жилья  \n",
       "3  дополнительное образование  \n",
       "4             сыграть свадьбу  "
      ]
     },
     "execution_count": 26,
     "metadata": {},
     "output_type": "execute_result"
    }
   ],
   "source": [
    "data.head()"
   ]
  },
  {
   "cell_type": "markdown",
   "metadata": {},
   "source": [
    "### Обработка пропусков <a id=\"3\"></a>"
   ]
  },
  {
   "cell_type": "code",
   "execution_count": 27,
   "metadata": {},
   "outputs": [],
   "source": [
    "\n",
    "\n",
    "\n",
    "#print(data.head())\n",
    "#print(data[data['days_employed'].isnull()].tail(10))\n",
    "#print(data[data['total_income'].isnull()].count())\n",
    "\n",
    "# При просмотре таблицы, в столбцах 'days_employed' и 'total_income' были обнаруженны пустые значения, т.к. значения числовые\n",
    "# было принято решение заполнить пропуски средним значением по столбцам\n",
    "\n",
    "data['days_employed'] = data['days_employed'].fillna(data['days_employed'].mean())\n",
    "data['total_income'] = data['total_income'].fillna(data['total_income'].mean())"
   ]
  },
  {
   "cell_type": "code",
   "execution_count": 28,
   "metadata": {},
   "outputs": [
    {
     "name": "stdout",
     "output_type": "stream",
     "text": [
      "<class 'pandas.core.frame.DataFrame'>\n",
      "RangeIndex: 21525 entries, 0 to 21524\n",
      "Data columns (total 12 columns):\n",
      "children            21525 non-null int64\n",
      "days_employed       21525 non-null float64\n",
      "dob_years           21525 non-null int64\n",
      "education           21525 non-null object\n",
      "education_id        21525 non-null int64\n",
      "family_status       21525 non-null object\n",
      "family_status_id    21525 non-null int64\n",
      "gender              21525 non-null object\n",
      "income_type         21525 non-null object\n",
      "debt                21525 non-null int64\n",
      "total_income        21525 non-null float64\n",
      "purpose             21525 non-null object\n",
      "dtypes: float64(2), int64(5), object(5)\n",
      "memory usage: 2.0+ MB\n"
     ]
    }
   ],
   "source": [
    "data.info() \n",
    "# Больше нулевых значений в данных нет."
   ]
  },
  {
   "cell_type": "code",
   "execution_count": 29,
   "metadata": {},
   "outputs": [
    {
     "name": "stdout",
     "output_type": "stream",
     "text": [
      "<class 'pandas.core.frame.DataFrame'>\n",
      "RangeIndex: 21525 entries, 0 to 21524\n",
      "Data columns (total 12 columns):\n",
      "children            21525 non-null int64\n",
      "days_employed       21525 non-null float64\n",
      "dob_years           21525 non-null float64\n",
      "education           21525 non-null object\n",
      "education_id        21525 non-null int64\n",
      "family_status       21525 non-null object\n",
      "family_status_id    21525 non-null int64\n",
      "gender              21525 non-null object\n",
      "income_type         21525 non-null object\n",
      "debt                21525 non-null int64\n",
      "total_income        21525 non-null float64\n",
      "purpose             21525 non-null object\n",
      "dtypes: float64(3), int64(4), object(5)\n",
      "memory usage: 2.0+ MB\n",
      "None\n"
     ]
    }
   ],
   "source": [
    "# При просмотре столбца 'children', методом '.value_counts()' были выявлены аномальные значения (-1, 20)\n",
    "# Скорее всего это вызвано ошибкой человека вводившего данные\n",
    "# Решение было простым, заменить -1 на 1, а 20 на 2\n",
    "\n",
    "data.loc[data['children'] == -1, 'children'] = 1\n",
    "data.loc[data['children'] == 20, 'children'] = 2\n",
    "\n",
    "# При просмотре столбца 'dob_years', методом '.value_counts()' было выявлено аномальное значение (0)\n",
    "# Скорее всего это техническая ошибка, было принято решение заменить 0 на среднее значение по столбцу\n",
    "\n",
    "data['dob_years'].value_counts()\n",
    "mean_dob_years = data['dob_years'].mean()\n",
    "data.loc[data['dob_years'] == 0, 'dob_years'] = mean_dob_years\n",
    "\n",
    "#print(mean_dob_years)\n",
    "#print(data.head())\n",
    "\n",
    "print(data.info())\n"
   ]
  },
  {
   "cell_type": "markdown",
   "metadata": {},
   "source": [
    "### Вывод"
   ]
  },
  {
   "cell_type": "markdown",
   "metadata": {},
   "source": [
    "В данных были выявлены и успешно устранены пропуски и некореектные значения, по принципам указанных в комментариях к коду"
   ]
  },
  {
   "cell_type": "markdown",
   "metadata": {},
   "source": [
    "### Замена типа данных <a id=\"4\"></a>"
   ]
  },
  {
   "cell_type": "code",
   "execution_count": 30,
   "metadata": {},
   "outputs": [
    {
     "name": "stdout",
     "output_type": "stream",
     "text": [
      "<class 'pandas.core.frame.DataFrame'>\n",
      "RangeIndex: 21525 entries, 0 to 21524\n",
      "Data columns (total 12 columns):\n",
      "children            21525 non-null int64\n",
      "days_employed       21525 non-null int64\n",
      "dob_years           21525 non-null int64\n",
      "education           21525 non-null object\n",
      "education_id        21525 non-null int64\n",
      "family_status       21525 non-null object\n",
      "family_status_id    21525 non-null int64\n",
      "gender              21525 non-null object\n",
      "income_type         21525 non-null object\n",
      "debt                21525 non-null int64\n",
      "total_income        21525 non-null int64\n",
      "purpose             21525 non-null object\n",
      "dtypes: int64(7), object(5)\n",
      "memory usage: 2.0+ MB\n",
      "None\n"
     ]
    }
   ],
   "source": [
    "# При просмотре таблицы не было выявленно несоответствующих типов данных данным, но были столбцы, где 'float64' можно было\n",
    "# Заменить на 'int', что и было произведено\n",
    "\n",
    "data['total_income'] = data['total_income'].astype('int')\n",
    "data['days_employed'] = data['days_employed'].astype('int')\n",
    "data['dob_years'] = data['dob_years'].astype('int')\n",
    "\n",
    "#print(data.head())\n",
    "\n",
    "print(data.info())\n"
   ]
  },
  {
   "cell_type": "markdown",
   "metadata": {},
   "source": [
    "### Вывод"
   ]
  },
  {
   "cell_type": "markdown",
   "metadata": {},
   "source": [
    "При просмотре таблицы не было выявленно несоответствующих типов данных данным, но были столбцы, где 'float64' можно было\n",
    "заменить на 'int', что и было произведено"
   ]
  },
  {
   "cell_type": "markdown",
   "metadata": {},
   "source": [
    "### Обработка дубликатов <a id=\"5\"></a>"
   ]
  },
  {
   "cell_type": "code",
   "execution_count": 31,
   "metadata": {},
   "outputs": [
    {
     "name": "stdout",
     "output_type": "stream",
     "text": [
      "71\n"
     ]
    },
    {
     "data": {
      "text/plain": [
       "0"
      ]
     },
     "execution_count": 31,
     "metadata": {},
     "output_type": "execute_result"
    }
   ],
   "source": [
    "# При просмотре столбца 'education' методом '.value_counts() были выявлены дубликаты, возникновение которых \n",
    "# связано с разным регистром букв, что вызвано ошибкой человека вводившего данные\n",
    "# В связи с этим было принято решение применить метод .'str_lower()'\n",
    "\n",
    "data['education'] = data['education'].str.lower()\n",
    "data['education'].value_counts()\n",
    "print(data.duplicated().sum())\n",
    "\n",
    "# Также было произведена проверка таблицы на полные дубликаты строк и дальнейшее их уничтожение.\n",
    "\n",
    "data = data.drop_duplicates().reset_index(drop = True)\n",
    "data.duplicated().sum()\n"
   ]
  },
  {
   "cell_type": "markdown",
   "metadata": {},
   "source": [
    "### Вывод"
   ]
  },
  {
   "cell_type": "markdown",
   "metadata": {},
   "source": [
    "Были вявлены и удалены дубликаты связанные с разным регистром, а также полные дубликаты строк"
   ]
  },
  {
   "cell_type": "markdown",
   "metadata": {},
   "source": [
    "### Лемматизация <a id=\"6\"></a>"
   ]
  },
  {
   "cell_type": "code",
   "execution_count": 32,
   "metadata": {},
   "outputs": [
    {
     "name": "stdout",
     "output_type": "stream",
     "text": [
      "Counter({' ': 59, ',': 37, 'покупка': 10, 'недвижимость': 10, 'автомобиль': 9, 'образование': 9, 'жилье': 7, 'с': 5, 'операция': 4, 'на': 4, 'свой': 4, 'свадьба': 3, 'строительство': 3, 'получение': 3, 'высокий': 3, 'дополнительный': 2, 'для': 2, 'коммерческий': 2, 'жилой': 2, 'подержать': 2, 'заниматься': 2, 'сделка': 2, 'приобретение': 1, 'сыграть': 1, 'проведение': 1, 'семья': 1, 'собственный': 1, 'со': 1, 'профильный': 1, 'сдача': 1, 'ремонт': 1, '\\n': 1})\n"
     ]
    }
   ],
   "source": [
    "# При просмотре таблицы в столбце 'purpose', было обнаружено, что цели кредита можно объеденить в более общие категории, \n",
    "# Тем самым облегчив их дальнейшую категоризацию\n",
    "# Была произведена лемматизация столбца 'purpose', для определения основных категорий целей кредита\n",
    "\n",
    "from pymystem3 import Mystem\n",
    "m = Mystem()\n",
    "uniqueVals = data['purpose'].unique()\n",
    "myString = ','.join(uniqueVals)\n",
    "lemmas = m.lemmatize(myString)\n",
    "from collections import Counter\n",
    "print(Counter(lemmas))"
   ]
  },
  {
   "cell_type": "markdown",
   "metadata": {},
   "source": [
    "### Категоризация данных <a id=\"7\"></a>"
   ]
  },
  {
   "cell_type": "code",
   "execution_count": 33,
   "metadata": {},
   "outputs": [
    {
     "data": {
      "text/html": [
       "<div>\n",
       "<style scoped>\n",
       "    .dataframe tbody tr th:only-of-type {\n",
       "        vertical-align: middle;\n",
       "    }\n",
       "\n",
       "    .dataframe tbody tr th {\n",
       "        vertical-align: top;\n",
       "    }\n",
       "\n",
       "    .dataframe thead th {\n",
       "        text-align: right;\n",
       "    }\n",
       "</style>\n",
       "<table border=\"1\" class=\"dataframe\">\n",
       "  <thead>\n",
       "    <tr style=\"text-align: right;\">\n",
       "      <th></th>\n",
       "      <th>children</th>\n",
       "      <th>days_employed</th>\n",
       "      <th>dob_years</th>\n",
       "      <th>education</th>\n",
       "      <th>education_id</th>\n",
       "      <th>family_status</th>\n",
       "      <th>family_status_id</th>\n",
       "      <th>gender</th>\n",
       "      <th>income_type</th>\n",
       "      <th>debt</th>\n",
       "      <th>total_income</th>\n",
       "      <th>purpose</th>\n",
       "      <th>general_purpose</th>\n",
       "    </tr>\n",
       "  </thead>\n",
       "  <tbody>\n",
       "    <tr>\n",
       "      <td>0</td>\n",
       "      <td>1</td>\n",
       "      <td>8437</td>\n",
       "      <td>42</td>\n",
       "      <td>высшее</td>\n",
       "      <td>0</td>\n",
       "      <td>женат / замужем</td>\n",
       "      <td>0</td>\n",
       "      <td>F</td>\n",
       "      <td>сотрудник</td>\n",
       "      <td>0</td>\n",
       "      <td>253875</td>\n",
       "      <td>покупка жилья</td>\n",
       "      <td>недвижимость</td>\n",
       "    </tr>\n",
       "    <tr>\n",
       "      <td>1</td>\n",
       "      <td>1</td>\n",
       "      <td>4024</td>\n",
       "      <td>36</td>\n",
       "      <td>среднее</td>\n",
       "      <td>1</td>\n",
       "      <td>женат / замужем</td>\n",
       "      <td>0</td>\n",
       "      <td>F</td>\n",
       "      <td>сотрудник</td>\n",
       "      <td>0</td>\n",
       "      <td>112080</td>\n",
       "      <td>приобретение автомобиля</td>\n",
       "      <td>автомобиль</td>\n",
       "    </tr>\n",
       "    <tr>\n",
       "      <td>2</td>\n",
       "      <td>0</td>\n",
       "      <td>5623</td>\n",
       "      <td>33</td>\n",
       "      <td>среднее</td>\n",
       "      <td>1</td>\n",
       "      <td>женат / замужем</td>\n",
       "      <td>0</td>\n",
       "      <td>M</td>\n",
       "      <td>сотрудник</td>\n",
       "      <td>0</td>\n",
       "      <td>145885</td>\n",
       "      <td>покупка жилья</td>\n",
       "      <td>недвижимость</td>\n",
       "    </tr>\n",
       "    <tr>\n",
       "      <td>3</td>\n",
       "      <td>3</td>\n",
       "      <td>4124</td>\n",
       "      <td>32</td>\n",
       "      <td>среднее</td>\n",
       "      <td>1</td>\n",
       "      <td>женат / замужем</td>\n",
       "      <td>0</td>\n",
       "      <td>M</td>\n",
       "      <td>сотрудник</td>\n",
       "      <td>0</td>\n",
       "      <td>267628</td>\n",
       "      <td>дополнительное образование</td>\n",
       "      <td>образование</td>\n",
       "    </tr>\n",
       "    <tr>\n",
       "      <td>4</td>\n",
       "      <td>0</td>\n",
       "      <td>340266</td>\n",
       "      <td>53</td>\n",
       "      <td>среднее</td>\n",
       "      <td>1</td>\n",
       "      <td>гражданский брак</td>\n",
       "      <td>1</td>\n",
       "      <td>F</td>\n",
       "      <td>пенсионер</td>\n",
       "      <td>0</td>\n",
       "      <td>158616</td>\n",
       "      <td>сыграть свадьбу</td>\n",
       "      <td>свадьба</td>\n",
       "    </tr>\n",
       "  </tbody>\n",
       "</table>\n",
       "</div>"
      ],
      "text/plain": [
       "   children  days_employed  dob_years education  education_id  \\\n",
       "0         1           8437         42    высшее             0   \n",
       "1         1           4024         36   среднее             1   \n",
       "2         0           5623         33   среднее             1   \n",
       "3         3           4124         32   среднее             1   \n",
       "4         0         340266         53   среднее             1   \n",
       "\n",
       "      family_status  family_status_id gender income_type  debt  total_income  \\\n",
       "0   женат / замужем                 0      F   сотрудник     0        253875   \n",
       "1   женат / замужем                 0      F   сотрудник     0        112080   \n",
       "2   женат / замужем                 0      M   сотрудник     0        145885   \n",
       "3   женат / замужем                 0      M   сотрудник     0        267628   \n",
       "4  гражданский брак                 1      F   пенсионер     0        158616   \n",
       "\n",
       "                      purpose general_purpose  \n",
       "0               покупка жилья    недвижимость  \n",
       "1     приобретение автомобиля      автомобиль  \n",
       "2               покупка жилья    недвижимость  \n",
       "3  дополнительное образование     образование  \n",
       "4             сыграть свадьбу         свадьба  "
      ]
     },
     "execution_count": 33,
     "metadata": {},
     "output_type": "execute_result"
    }
   ],
   "source": [
    "# Для привязки строк к освноым целям кредита была написана функция \n",
    "# сравнивающая и возвращающая основную лемму столбца 'purpose' в столбец 'general_purpose'\n",
    "\n",
    "def lemmarow(row):\n",
    "    word = row['purpose']\n",
    "    ret = ' '.join(m.lemmatize(word))\n",
    "    if 'недвижимость' in ret:\n",
    "        return 'недвижимость'\n",
    "    if 'жилье' in ret:\n",
    "        return 'недвижимость'\n",
    "    if 'автомобиль' in ret:\n",
    "        return 'автомобиль'\n",
    "    if 'образование' in ret:\n",
    "        return 'образование'\n",
    "    if 'свадьба' in ret:\n",
    "        return 'свадьба'\n",
    "data['general_purpose'] = data.apply(lemmarow, axis = 1)\n",
    "data.head()"
   ]
  },
  {
   "cell_type": "markdown",
   "metadata": {},
   "source": [
    "### Вывод"
   ]
  },
  {
   "cell_type": "markdown",
   "metadata": {},
   "source": [
    "С помощью описанных в комментариях к коду действий, был создан столбец 'general_purpose' с основными категориями целей кредита"
   ]
  },
  {
   "cell_type": "markdown",
   "metadata": {},
   "source": [
    "### Шаг 3. Ответы на вопросы <a id=\"8\"></a>"
   ]
  },
  {
   "cell_type": "markdown",
   "metadata": {},
   "source": [
    "- Есть ли зависимость между наличием детей и возвратом кредита в срок?"
   ]
  },
  {
   "cell_type": "code",
   "execution_count": 34,
   "metadata": {},
   "outputs": [
    {
     "data": {
      "text/plain": [
       "children  debt\n",
       "0         0       13028\n",
       "          1        1063\n",
       "1         0        4410\n",
       "          1         445\n",
       "2         0        1926\n",
       "          1         202\n",
       "3         0         303\n",
       "          1          27\n",
       "4         0          37\n",
       "          1           4\n",
       "5         0           9\n",
       "Name: debt, dtype: int64"
      ]
     },
     "execution_count": 34,
     "metadata": {},
     "output_type": "execute_result"
    }
   ],
   "source": [
    "\n",
    "#сгрупперуем таблицу по стобцам 'children' и 'debt'\n",
    "data.groupby('children')['debt'].value_counts()\n"
   ]
  },
  {
   "cell_type": "code",
   "execution_count": 35,
   "metadata": {},
   "outputs": [
    {
     "name": "stdout",
     "output_type": "stream",
     "text": [
      "Процент людей без детей имеющих кредитную задолженность = 8.2%\n",
      "Процент людей с 1 ребенком имеющих кредитную задолженность = 10.1%\n",
      "Процент людей с 2 детьми имеющих кредитную задолженность = 10.5%\n",
      "Процент людей с 3 детьми имеющих кредитную задолженность = 8.9%\n",
      "Процент людей с 4 детьми имеющих кредитную задолженность = 10.8%\n",
      "Люди с 5 детьми в данной выборке не имеют задолженностей по кредитам\n"
     ]
    }
   ],
   "source": [
    "print('Процент людей без детей имеющих кредитную задолженность = {:.1%}'.format(1063/13028))\n",
    "print('Процент людей с 1 ребенком имеющих кредитную задолженность = {:.1%}'.format(445/4410))\n",
    "print('Процент людей с 2 детьми имеющих кредитную задолженность = {:.1%}'.format(202/1926))\n",
    "print('Процент людей с 3 детьми имеющих кредитную задолженность = {:.1%}'.format(27/303))\n",
    "print('Процент людей с 4 детьми имеющих кредитную задолженность = {:.1%}'.format(4/37))\n",
    "print('Люди с 5 детьми в данной выборке не имеют задолженностей по кредитам')\n",
    "\n"
   ]
  },
  {
   "cell_type": "markdown",
   "metadata": {},
   "source": [
    "### Вывод"
   ]
  },
  {
   "cell_type": "markdown",
   "metadata": {},
   "source": [
    "Процент людей имеющих задолженность с 1, 2 и 4 детьми ≈ 10.4%\n",
    "В то время как люди без детей и люди с 3 детьми имеют меньшее отношение по задолженности ≈ 8.5%\n",
    "\n",
    "Значит ли это, что бог любит троицу? \n",
    "Никакой зависимости от количества детей к возврату кредита не наблюдается. Меньше всего задолженностей имеют люди без детей."
   ]
  },
  {
   "cell_type": "markdown",
   "metadata": {},
   "source": [
    "- Есть ли зависимость между семейным положением и возвратом кредита в срок?"
   ]
  },
  {
   "cell_type": "code",
   "execution_count": 36,
   "metadata": {},
   "outputs": [
    {
     "name": "stdout",
     "output_type": "stream",
     "text": [
      "family_status          debt\n",
      "Не женат / не замужем  0        2536\n",
      "                       1         274\n",
      "в разводе              0        1110\n",
      "                       1          85\n",
      "вдовец / вдова         0         896\n",
      "                       1          63\n",
      "гражданский брак       0        3763\n",
      "                       1         388\n",
      "женат / замужем        0       11408\n",
      "                       1         931\n",
      "Name: debt, dtype: int64\n"
     ]
    }
   ],
   "source": [
    "# Сгруппируем таблицу по стобцам 'family_status' и 'debt\n",
    "\n",
    "print(data.groupby('family_status')['debt'].value_counts())"
   ]
  },
  {
   "cell_type": "code",
   "execution_count": 37,
   "metadata": {},
   "outputs": [
    {
     "name": "stdout",
     "output_type": "stream",
     "text": [
      "Процент людей с семейным положением \"Не женат / не замужем\" имеющих кредитную задолженность = 10.8%\n",
      "Процент людей с семейным положением \"в разводе\" имеющих кредитную задолженность = 7.7%\n",
      "Процент людей с семейным положением \"вдовец / вдова\" имеющих кредитную задолженность = 7.0%\n",
      "Процент людей с семейным положением \"гражданский брак\" имеющих кредитную задолженность = 10.3%\n",
      "Процент людей с семейным положением \"женат / замужем\" имеющих кредитную задолженность = 8.2%\n"
     ]
    }
   ],
   "source": [
    "print('Процент людей с семейным положением \"Не женат / не замужем\" имеющих кредитную задолженность = {:.1%}'.format(274/2536))\n",
    "print('Процент людей с семейным положением \"в разводе\" имеющих кредитную задолженность = {:.1%}'.format(85/1110))\n",
    "print('Процент людей с семейным положением \"вдовец / вдова\" имеющих кредитную задолженность = {:.1%}'.format(63/896))\n",
    "print('Процент людей с семейным положением \"гражданский брак\" имеющих кредитную задолженность = {:.1%}'.format(388/3763))\n",
    "print('Процент людей с семейным положением \"женат / замужем\" имеющих кредитную задолженность = {:.1%}'.format(931/11408))"
   ]
  },
  {
   "cell_type": "markdown",
   "metadata": {},
   "source": [
    "### Вывод"
   ]
  },
  {
   "cell_type": "markdown",
   "metadata": {},
   "source": [
    "На основе произведенных расчетов можно заметить, что люди с семейным положением \"Не женат / не замужем\" и \"гражданский брак\" имеют практически одинаковое соотношение задолженности по возврату кредитов ≈ 10.5%. \n",
    "\n",
    "В то время как люди с семейным положением \"вдовец / вдова\" , \"женат / замужем\" и \"в разводе\" имеют соотношение ≈ 7.6%\n",
    "\n",
    "Исходя из данных расчетов можно предположить, что люди находящиеся в браке, либо там побывавшие, ответственнее подходят к планированию собственного бюджета и рассчету кредита"
   ]
  },
  {
   "cell_type": "markdown",
   "metadata": {},
   "source": [
    "- Есть ли зависимость между уровнем дохода и возвратом кредита в срок?"
   ]
  },
  {
   "cell_type": "code",
   "execution_count": 38,
   "metadata": {},
   "outputs": [],
   "source": [
    "#Для ответа на данный вопрос напишем функцию возврающую класс дохода в столбец 'income_class'\n",
    "\n",
    "#print(data_grouped['total_income'].min())\n",
    "#print(data_grouped['total_income'].median())\n",
    "#print(data_grouped['total_income'].max())\n",
    "\n",
    "def income_group(row):\n",
    "    income = row['total_income']\n",
    "    if income < 30000:\n",
    "            return 'низкий'\n",
    "    if income <= 100000:\n",
    "            return 'средний'\n",
    "    if income <= 300000:\n",
    "            return 'высокий'\n",
    "    return 'очень высокий'\n",
    "data['income_class'] = data.apply(income_group, axis = 1)\n",
    "#print(data.head(10))\n"
   ]
  },
  {
   "cell_type": "code",
   "execution_count": 39,
   "metadata": {},
   "outputs": [
    {
     "name": "stdout",
     "output_type": "stream",
     "text": [
      "income_class   debt\n",
      "высокий        0       14228\n",
      "               1        1281\n",
      "низкий         0          20\n",
      "               1           2\n",
      "очень высокий  0        1376\n",
      "               1         106\n",
      "средний        0        4089\n",
      "               1         352\n",
      "Name: debt, dtype: int64\n"
     ]
    }
   ],
   "source": [
    "# Сгруппируем таблицу по стобцам 'income_class' и 'debt\n",
    "\n",
    "print(data.groupby('income_class')['debt'].value_counts())"
   ]
  },
  {
   "cell_type": "code",
   "execution_count": 40,
   "metadata": {},
   "outputs": [
    {
     "name": "stdout",
     "output_type": "stream",
     "text": [
      "Процент людей с низким уровнем дохода и кредитной задолженностью = 10.0%\n",
      "Процент людей с средним уровнем дохода и кредитной задолженностью = 8.6%\n",
      "Процент людей с высоким уровнем дохода и кредитной задолженностью = 9.0%\n",
      "Процент людей с очень высоким уровнем дохода и кредитной задолженностью = 7.7%\n"
     ]
    }
   ],
   "source": [
    "print('Процент людей с низким уровнем дохода и кредитной задолженностью = {:.1%}'.format(2/20))\n",
    "print('Процент людей с средним уровнем дохода и кредитной задолженностью = {:.1%}'.format(352/4089))\n",
    "print('Процент людей с высоким уровнем дохода и кредитной задолженностью = {:.1%}'.format(1281/14228))\n",
    "print('Процент людей с очень высоким уровнем дохода и кредитной задолженностью = {:.1%}'.format(106/1376))"
   ]
  },
  {
   "cell_type": "markdown",
   "metadata": {},
   "source": [
    "### Вывод"
   ]
  },
  {
   "cell_type": "markdown",
   "metadata": {},
   "source": [
    "На основе полученной информации заметно, что соотношение задолженности по возврату кредитов постепенно снижается с ростом уровня дохода\n",
    "\n",
    "Оно и понятно, чем больше денег, тем сложнее попасть в кредитную воронку"
   ]
  },
  {
   "cell_type": "markdown",
   "metadata": {},
   "source": [
    "- Как разные цели кредита влияют на его возврат в срок?"
   ]
  },
  {
   "cell_type": "code",
   "execution_count": 41,
   "metadata": {},
   "outputs": [
    {
     "name": "stdout",
     "output_type": "stream",
     "text": [
      "general_purpose  debt\n",
      "автомобиль       0        3903\n",
      "                 1         403\n",
      "недвижимость     0       10029\n",
      "                 1         782\n",
      "образование      0        3643\n",
      "                 1         370\n",
      "свадьба          0        2138\n",
      "                 1         186\n",
      "Name: debt, dtype: int64\n"
     ]
    }
   ],
   "source": [
    "print(data.groupby('general_purpose')['debt'].value_counts())"
   ]
  },
  {
   "cell_type": "code",
   "execution_count": 42,
   "metadata": {},
   "outputs": [
    {
     "name": "stdout",
     "output_type": "stream",
     "text": [
      "Процент людей взявших кредит на автомобиль имеющих крдитную задолженность = 10.3%\n",
      "Процент людей взявших кредит на недвижимость имеющих крдитную задолженность = 7.8%\n",
      "Процент людей взявших кредит на образование имеющих крдитную задолженность = 10.2%\n",
      "Процент людей взявших кредит на свадьбу имеющих крдитную задолженность = 8.7%\n"
     ]
    }
   ],
   "source": [
    "print('Процент людей взявших кредит на автомобиль имеющих крдитную задолженность = {:.1%}'.format(403/3903))\n",
    "print('Процент людей взявших кредит на недвижимость имеющих крдитную задолженность = {:.1%}'.format(782/10029))\n",
    "print('Процент людей взявших кредит на образование имеющих крдитную задолженность = {:.1%}'.format(370/3643))\n",
    "print('Процент людей взявших кредит на свадьбу имеющих крдитную задолженность = {:.1%}'.format(186/2138))"
   ]
  },
  {
   "cell_type": "markdown",
   "metadata": {},
   "source": [
    "### Вывод"
   ]
  },
  {
   "cell_type": "markdown",
   "metadata": {},
   "source": [
    "Меньше всего задолженностей имеют люди взявшие кредит на недвижимость и свадьбу, а больше всего на автомобиль и образование\n"
   ]
  },
  {
   "cell_type": "markdown",
   "metadata": {},
   "source": [
    "### Шаг 4. Общий вывод <a id=\"9\"></a>"
   ]
  },
  {
   "cell_type": "markdown",
   "metadata": {},
   "source": [
    "Нужно было разобраться, влияет ли семейное положение и количество детей клиента на факт погашения кредита в срок.\n",
    "\n",
    "Никакой зависимости от количества детей к возврату кредита не наблюдается. Меньше всего задолженностей имеют люди без детей и люди с 3 детьми.\n",
    "\n",
    "Также люди с семейным положением \"Не женат / не замужем\" и \"гражданский брак\" имеют большее соотношение задолженности по возврату кредитов, чем люди находящиеся в браке, либо там побывавшие"
   ]
  }
 ],
 "metadata": {
  "kernelspec": {
   "display_name": "Python 3",
   "language": "python",
   "name": "python3"
  },
  "language_info": {
   "codemirror_mode": {
    "name": "ipython",
    "version": 3
   },
   "file_extension": ".py",
   "mimetype": "text/x-python",
   "name": "python",
   "nbconvert_exporter": "python",
   "pygments_lexer": "ipython3",
   "version": "3.7.4"
  }
 },
 "nbformat": 4,
 "nbformat_minor": 2
}
